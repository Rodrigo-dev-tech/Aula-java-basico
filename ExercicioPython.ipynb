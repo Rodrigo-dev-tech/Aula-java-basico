{
  "nbformat": 4,
  "nbformat_minor": 0,
  "metadata": {
    "colab": {
      "provenance": [],
      "authorship_tag": "ABX9TyOQA1SSvscY9jdVArymu2N8",
      "include_colab_link": true
    },
    "kernelspec": {
      "name": "python3",
      "display_name": "Python 3"
    },
    "language_info": {
      "name": "python"
    }
  },
  "cells": [
    {
      "cell_type": "markdown",
      "metadata": {
        "id": "view-in-github",
        "colab_type": "text"
      },
      "source": [
        "<a href=\"https://colab.research.google.com/github/Rodrigo-dev-tech/Aula-java-basico/blob/main/ExercicioPython.ipynb\" target=\"_parent\"><img src=\"https://colab.research.google.com/assets/colab-badge.svg\" alt=\"Open In Colab\"/></a>"
      ]
    },
    {
      "cell_type": "code",
      "source": [
        "idade = 25\n",
        "\n",
        "if idade < 18: print(\"Menor de idade\")\n",
        "elif idade >= 18 and idade < 65:\n",
        "   print(\"Adulto\")\n",
        "else:\n",
        "    print(\"Idoso\")"
      ],
      "metadata": {
        "id": "OSmeAoUxR61X"
      },
      "execution_count": null,
      "outputs": []
    },
    {
      "cell_type": "code",
      "source": [
        "#Bem-vindo à Máquina de Venda Automática de Ingressos de Cinema!\n",
        "\n",
        "#Solicita a idade do cliente\n",
        "\n",
        "idade = int(input(\"Por favor, digite sua idade:\"))\n",
        "\n",
        "#verifica a idade para sugestão de filmes\n",
        "\n",
        "if idade < 12:\n",
        "\n",
        "   print(\"Recomendamos o filme adolescente FILME 2.\")\n",
        "\n",
        "else:\n",
        "\n",
        "   print(\"Recomendamos o filme emocionante FILME 3.\")\n",
        "\n",
        "#Verifica a disponibilidade de ingressos\n",
        "\n",
        "quantidade_ingressos = 0 #Soponha que haja 10 ingressos disponíveis\n",
        "\n",
        "if quantidade_ingressos > 0:\n",
        "\n",
        "    print(\"Ingressos estão disponíveis. Divirta-se no cinema\")\n",
        "\n",
        "else:\n",
        "\n",
        "    print(\"Desculpe, todos os ingressos estão esgotados para hoje.\")"
      ],
      "metadata": {
        "id": "xYkSzh0mFPqW"
      },
      "execution_count": null,
      "outputs": []
    },
    {
      "cell_type": "code",
      "source": [
        "numeros = [1, 2, 3, 4, 5]\n",
        "for numero in numeros:\n",
        "  print(numero)"
      ],
      "metadata": {
        "id": "lldqcdg2N8pr"
      },
      "execution_count": null,
      "outputs": []
    },
    {
      "cell_type": "code",
      "source": [
        "numero = int(input())\n",
        "\n",
        "while numero != 0:\n",
        "    if numero % 2 == 0:\n",
        "       print(\"Número é par\")\n",
        "    else:\n",
        "       print(\"Número é impar\")\n",
        "    numero = int(input())"
      ],
      "metadata": {
        "id": "bk1C5HdlOQA1"
      },
      "execution_count": null,
      "outputs": []
    },
    {
      "cell_type": "code",
      "source": [
        "for x in range(5):\n",
        "  print(x)\n",
        "  #a saída será:\n",
        "  0\n",
        "  1\n",
        "  2\n",
        "  3\n",
        "  4\n",
        ""
      ],
      "metadata": {
        "id": "xiGm6MZ7SJDV"
      },
      "execution_count": null,
      "outputs": []
    },
    {
      "cell_type": "code",
      "source": [
        "for y in range(2, 7):\n",
        "  print(y)\n",
        "\n",
        "  #a saída será:\n",
        "  2\n",
        "  3\n",
        "  4\n",
        "  5\n",
        "  6"
      ],
      "metadata": {
        "id": "ZVB-LK0xSxjT"
      },
      "execution_count": null,
      "outputs": []
    },
    {
      "cell_type": "code",
      "source": [
        "for z in range(1, 11, 2):\n",
        "  print(z)\n",
        "\n",
        "  #a saída será:\n",
        "  1\n",
        "  3\n",
        "  5\n",
        "  7\n",
        "  9"
      ],
      "metadata": {
        "id": "ou8y18v8Tihf"
      },
      "execution_count": null,
      "outputs": []
    },
    {
      "cell_type": "code",
      "source": [
        "for numero in range(1, 11):\n",
        "\n",
        "  if numero % 2 == 0:\n",
        "    print(numero)\n",
        "\n",
        "    break\n",
        "#a saída será:\n",
        "#O primeiro número par encontrado é: 2"
      ],
      "metadata": {
        "id": "m0jr5_jZTz_i"
      },
      "execution_count": null,
      "outputs": []
    },
    {
      "cell_type": "code",
      "source": [
        "for numero in range(1, 11):\n",
        "\n",
        "    if numero == 5:\n",
        "\n",
        "        continue\n",
        "\n",
        "    print(numero)\n",
        "#a saída será:\n",
        "1\n",
        "2\n",
        "3\n",
        "4\n",
        "6\n",
        "7\n",
        "8\n",
        "9\n",
        "10\n",
        "10"
      ],
      "metadata": {
        "id": "Z-ZWGPxbUrEV"
      },
      "execution_count": null,
      "outputs": []
    },
    {
      "cell_type": "code",
      "source": [
        "filmes = [\"filme 1\", \"filme 2\", \"filme 3\", \"filme 4\", \"filme 5\"]\n",
        "\n",
        "#Inicia um loop para cada filme: for filme in filmes: começa um loop que irá iterar sobre cada item na lista filmes.\n",
        "#Em cada iteração, a variável filme conterá o nome do filme atual.\n",
        "for filme in filmes:\n",
        "  #Inicia um loop interno para a classificação\n",
        "  while True:\n",
        "    #Pede a classificação do usuário\n",
        "    classificacao = input(f\"Classifique '{filme}' de 1 a 5? (ou 0 para parar): \")\n",
        "    #Verifica se o usuário quer parar\n",
        "    if classificacao == '0':\n",
        "      #Interrompe a classificação do filme atual\n",
        "      print(f\"Classificação de '{filme}' interrompida.\")\n",
        "      break # Encerra o loop interno com \"break\"\n",
        "    #Trata a entrada do usuário\n",
        "    try:\n",
        "        classificacao = int(classificacao)\n",
        "        #Verifica se a classificação é válida\n",
        "        if 1 <= classificacao <= 5:\n",
        "          #Confirma a classificação e sai do loop interno\n",
        "          print(f\"'{filme}' classificado com {classificacao} estrelas.\\n\")\n",
        "          break # Sai do loop interno\n",
        "          #Lida com classificações fora do intervalo\n",
        "        else:\n",
        "          print(\"Por favor, digite um número entre 1 e 5, ou 0 para parar.\")\n",
        "    #Lida com entrada inválida (não numérica)\n",
        "    except ValueError:\n",
        "        print(\"Entrada inválida. Por favor, digite um número.\")"
      ],
      "metadata": {
        "colab": {
          "base_uri": "https://localhost:8080/"
        },
        "id": "5m8Y9JoaWbVE",
        "outputId": "07198268-372f-4fde-b2d1-875a519a0aba"
      },
      "execution_count": 111,
      "outputs": [
        {
          "output_type": "stream",
          "name": "stdout",
          "text": [
            "Classifique 'filme 1' de 1 a 5? (ou 0 para parar): 0\n",
            "Classificação de 'filme 1' interrompida.\n",
            "Classifique 'filme 2' de 1 a 5? (ou 0 para parar): 0\n",
            "Classificação de 'filme 2' interrompida.\n",
            "Classifique 'filme 3' de 1 a 5? (ou 0 para parar): 0\n",
            "Classificação de 'filme 3' interrompida.\n",
            "Classifique 'filme 4' de 1 a 5? (ou 0 para parar): 0\n",
            "Classificação de 'filme 4' interrompida.\n",
            "Classifique 'filme 5' de 1 a 5? (ou 0 para parar): 0\n",
            "Classificação de 'filme 5' interrompida.\n"
          ]
        }
      ]
    }
  ]
}